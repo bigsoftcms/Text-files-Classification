{
 "cells": [
  {
   "cell_type": "code",
   "execution_count": 1,
   "metadata": {},
   "outputs": [],
   "source": [
    "import glob, os\n",
    "def rename(dir, pattern, titlePattern):\n",
    "    for pathAndFilename in glob.iglob(os.path.join(dir, pattern)):\n",
    "        title, ext = os.path.splitext(os.path.basename(pathAndFilename))\n",
    "        os.rename(pathAndFilename, \n",
    "                  os.path.join(dir, titlePattern % title + ext))"
   ]
  },
  {
   "cell_type": "code",
   "execution_count": 2,
   "metadata": {},
   "outputs": [],
   "source": [
    "#rename for business\n",
    "rename(r'/Users/maweibin/Desktop/data intensive computing/lab3/part2/data_0426/business',\n",
    "       r'*.txt', r'business_%s')\n",
    "#rename for politics\n",
    "rename(r'/Users/maweibin/Desktop/data intensive computing/lab3/part2/data_0426/politics',\n",
    "       r'*.txt', r'politics_%s')\n",
    "#rename for sport\n",
    "rename(r'/Users/maweibin/Desktop/data intensive computing/lab3/part2/data_0426/sports',\n",
    "       r'*.txt', r'sports_%s')\n",
    "#rename for science\n",
    "rename(r'/Users/maweibin/Desktop/data intensive computing/lab3/part2/data_0426/science',\n",
    "       r'*.txt', r'science_%s')"
   ]
  },
  {
   "cell_type": "code",
   "execution_count": null,
   "metadata": {},
   "outputs": [],
   "source": []
  }
 ],
 "metadata": {
  "kernelspec": {
   "display_name": "Python 3",
   "language": "python",
   "name": "python3"
  },
  "language_info": {
   "codemirror_mode": {
    "name": "ipython",
    "version": 3
   },
   "file_extension": ".py",
   "mimetype": "text/x-python",
   "name": "python",
   "nbconvert_exporter": "python",
   "pygments_lexer": "ipython3",
   "version": "3.6.4"
  }
 },
 "nbformat": 4,
 "nbformat_minor": 2
}
